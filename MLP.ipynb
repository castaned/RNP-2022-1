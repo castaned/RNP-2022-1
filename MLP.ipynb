{
 "cells": [
  {
   "cell_type": "code",
   "execution_count": 1,
   "id": "8590be42",
   "metadata": {},
   "outputs": [],
   "source": [
    "%load_ext tensorboard"
   ]
  },
  {
   "cell_type": "code",
   "execution_count": 2,
   "id": "f53161a1",
   "metadata": {},
   "outputs": [],
   "source": [
    "import tensorflow as tf \n",
    "import numpy as np\n",
    "from tensorflow import keras \n",
    "import datetime\n",
    "import matplotlib.pyplot as plt"
   ]
  },
  {
   "cell_type": "code",
   "execution_count": 3,
   "id": "58b74eaa",
   "metadata": {},
   "outputs": [
    {
     "name": "stdout",
     "output_type": "stream",
     "text": [
      "2.3.0\n"
     ]
    }
   ],
   "source": [
    "# check the version of tensorflow \n",
    "print(tf.__version__)"
   ]
  },
  {
   "cell_type": "code",
   "execution_count": 4,
   "id": "7591219f",
   "metadata": {},
   "outputs": [],
   "source": [
    "#network parameters\n",
    "EPOCHS = 200 \n",
    "BATCH_SIZE = 128 \n",
    "VERBOSE = 1\n",
    "NB_CLASSES = 10 \n",
    "N_HIDDEN = 128 \n",
    "VALIDATION_SPLIT = 0.2 "
   ]
  },
  {
   "cell_type": "code",
   "execution_count": 5,
   "id": "571fcae7",
   "metadata": {},
   "outputs": [
    {
     "data": {
      "text/plain": [
       "(60000, 28, 28)"
      ]
     },
     "execution_count": 5,
     "metadata": {},
     "output_type": "execute_result"
    }
   ],
   "source": [
    "# loading MNIST dataset \n",
    "mnist = keras.datasets.mnist\n",
    "(X_train, Y_train), (X_test, Y_test) = mnist.load_data()\n",
    "# shape of original data  \n",
    "\n",
    "#X_train\n",
    "X_train.shape"
   ]
  },
  {
   "cell_type": "code",
   "execution_count": 7,
   "id": "8010b66a",
   "metadata": {},
   "outputs": [
    {
     "data": {
      "image/png": "[encoded data removed]",
      "text/plain": [
       "<Figure size 432x288 with 9 Axes>"
      ]
     },
     "metadata": {
      "needs_background": "light"
     },
     "output_type": "display_data"
    }
   ],
   "source": [
    " # plotting the first 9 images in the train set of MNIST\n",
    " fig , axs = plt.subplots(3, 3)\n",
    " cnt = 0\n",
    " for i in range(3):\n",
    "     for j in range(3):\n",
    "         axs[i, j].imshow(X_train[cnt])\n",
    "         cnt += 1"
   ]
  },
  {
   "cell_type": "code",
   "execution_count": 8,
   "id": "17a0e946",
   "metadata": {},
   "outputs": [
    {
     "name": "stdout",
     "output_type": "stream",
     "text": [
      "60000 train samples\n",
      "10000 test samples\n"
     ]
    }
   ],
   "source": [
    "# X_Train is a 60000 rows of 28x28 values,  we reshape it to 60000 x 784 \n",
    "RESHAPED = 784 \n",
    "\n",
    "X_train = X_train.reshape(60000,RESHAPED)\n",
    "X_test = X_test.reshape(10000,RESHAPED) \n",
    "X_train = X_train.astype('float32')\n",
    "X_test = X_test.astype('float32')\n",
    "\n",
    "\n",
    "# Normalize inputs to be within in [0,1]\n",
    "X_train /= 255\n",
    "X_test /= 255 \n",
    "print(X_train.shape[0], 'train samples')\n",
    "print(X_test.shape[0], 'test samples')\n",
    "\n",
    "# One-hot representation of the labels \n",
    "Y_train = tf.keras.utils.to_categorical(Y_train, NB_CLASSES)\n",
    "Y_test = tf.keras.utils.to_categorical(Y_test, NB_CLASSES)"
   ]
  },
  {
   "cell_type": "code",
   "execution_count": 9,
   "id": "2ae601ae",
   "metadata": {},
   "outputs": [
    {
     "data": {
      "text/plain": [
       "array([[0., 0., 0., ..., 0., 0., 0.],\n",
       "       [1., 0., 0., ..., 0., 0., 0.],\n",
       "       [0., 0., 0., ..., 0., 0., 0.],\n",
       "       ...,\n",
       "       [0., 0., 0., ..., 0., 0., 0.],\n",
       "       [0., 0., 0., ..., 0., 0., 0.],\n",
       "       [0., 0., 0., ..., 0., 1., 0.]], dtype=float32)"
      ]
     },
     "execution_count": 9,
     "metadata": {},
     "output_type": "execute_result"
    }
   ],
   "source": [
    "Y_train"
   ]
  },
  {
   "cell_type": "code",
   "execution_count": 10,
   "id": "669185c8",
   "metadata": {},
   "outputs": [],
   "source": [
    "#Build the model \n",
    "model = tf.keras.models.Sequential() \n",
    "model.add(keras.layers.Dense(NB_CLASSES,\n",
    "          input_shape=(RESHAPED,),\n",
    "          name='dense_layer',\n",
    "          activation='softmax'))"
   ]
  },
  {
   "cell_type": "code",
   "execution_count": 11,
   "id": "a629cde1",
   "metadata": {},
   "outputs": [
    {
     "name": "stdout",
     "output_type": "stream",
     "text": [
      "Model: \"sequential\"\n",
      "_________________________________________________________________\n",
      "Layer (type)                 Output Shape              Param #   \n",
      "=================================================================\n",
      "dense_layer (Dense)          (None, 10)                7850      \n",
      "=================================================================\n",
      "Total params: 7,850\n",
      "Trainable params: 7,850\n",
      "Non-trainable params: 0\n",
      "_________________________________________________________________\n"
     ]
    }
   ],
   "source": [
    "#Summary of the model\n",
    "model.summary()"
   ]
  },
  {
   "cell_type": "code",
   "execution_count": 12,
   "id": "b637ca79",
   "metadata": {},
   "outputs": [],
   "source": [
    "#compiling the model \n",
    "model.compile(optimizer='SGD',\n",
    "             loss='categorical_crossentropy',\n",
    "             metrics=['accuracy'])"
   ]
  },
  {
   "cell_type": "code",
   "execution_count": 13,
   "id": "63065e4c",
   "metadata": {},
   "outputs": [],
   "source": [
    "# call for tensorboard \n",
    "log_dir = \"logs/fit/\" + datetime.datetime.now().strftime(\"%Y%m%d-%H%M%S\")\n",
    "tensorboard_callback = tf.keras.callbacks.TensorBoard(log_dir=log_dir, histogram_freq=1)"
   ]
  },
  {
   "cell_type": "code",
   "execution_count": 14,
   "id": "277b486a",
   "metadata": {},
   "outputs": [
    {
     "name": "stdout",
     "output_type": "stream",
     "text": [
      "Epoch 1/200\n",
      "  1/375 [..............................] - ETA: 0s - loss: 2.3732 - accuracy: 0.1328WARNING:tensorflow:From C:\\Users\\Alfredo\\anaconda3\\envs\\RNP\\lib\\site-packages\\tensorflow\\python\\ops\\summary_ops_v2.py:1277: stop (from tensorflow.python.eager.profiler) is deprecated and will be removed after 2020-07-01.\n",
      "Instructions for updating:\n",
      "use `tf.profiler.experimental.stop` instead.\n",
      "  2/375 [..............................] - ETA: 1:02 - loss: 2.3618 - accuracy: 0.1250WARNING:tensorflow:Callbacks method `on_train_batch_end` is slow compared to the batch time (batch time: 0.0010s vs `on_train_batch_end` time: 0.3318s). Check your callbacks.\n",
      "375/375 [==============================] - 2s 5ms/step - loss: 1.3626 - accuracy: 0.6768 - val_loss: 0.8894 - val_accuracy: 0.8193\n",
      "Epoch 2/200\n",
      "375/375 [==============================] - 1s 2ms/step - loss: 0.7912 - accuracy: 0.8275 - val_loss: 0.6556 - val_accuracy: 0.8547\n",
      "Epoch 3/200\n",
      "375/375 [==============================] - 1s 1ms/step - loss: 0.6431 - accuracy: 0.8505 - val_loss: 0.5612 - val_accuracy: 0.8688\n",
      "Epoch 4/200\n",
      "375/375 [==============================] - 1s 2ms/step - loss: 0.5711 - accuracy: 0.8616 - val_loss: 0.5082 - val_accuracy: 0.8780\n",
      "Epoch 5/200\n",
      "375/375 [==============================] - 0s 1ms/step - loss: 0.5272 - accuracy: 0.8688 - val_loss: 0.4745 - val_accuracy: 0.8824\n",
      "Epoch 6/200\n",
      "375/375 [==============================] - 1s 1ms/step - loss: 0.4969 - accuracy: 0.8739 - val_loss: 0.4507 - val_accuracy: 0.8854\n",
      "Epoch 7/200\n",
      "375/375 [==============================] - 0s 1ms/step - loss: 0.4746 - accuracy: 0.8780 - val_loss: 0.4324 - val_accuracy: 0.8890\n",
      "Epoch 8/200\n",
      "375/375 [==============================] - 1s 1ms/step - loss: 0.4572 - accuracy: 0.8807 - val_loss: 0.4183 - val_accuracy: 0.8914\n",
      "Epoch 9/200\n",
      "375/375 [==============================] - 0s 1ms/step - loss: 0.4432 - accuracy: 0.8832 - val_loss: 0.4067 - val_accuracy: 0.8940\n",
      "Epoch 10/200\n",
      "375/375 [==============================] - 0s 1ms/step - loss: 0.4315 - accuracy: 0.8857 - val_loss: 0.3972 - val_accuracy: 0.8954\n",
      "Epoch 11/200\n",
      "375/375 [==============================] - 0s 1ms/step - loss: 0.4218 - accuracy: 0.8872 - val_loss: 0.3892 - val_accuracy: 0.8966\n",
      "Epoch 12/200\n",
      "375/375 [==============================] - 0s 1ms/step - loss: 0.4133 - accuracy: 0.8894 - val_loss: 0.3824 - val_accuracy: 0.8981\n",
      "Epoch 13/200\n",
      "375/375 [==============================] - 0s 1ms/step - loss: 0.4060 - accuracy: 0.8911 - val_loss: 0.3761 - val_accuracy: 0.8992\n",
      "Epoch 14/200\n",
      "375/375 [==============================] - 0s 1ms/step - loss: 0.3995 - accuracy: 0.8921 - val_loss: 0.3708 - val_accuracy: 0.8998\n",
      "Epoch 15/200\n",
      "375/375 [==============================] - 0s 1ms/step - loss: 0.3937 - accuracy: 0.8933 - val_loss: 0.3659 - val_accuracy: 0.9023\n",
      "Epoch 16/200\n",
      "375/375 [==============================] - 0s 1ms/step - loss: 0.3885 - accuracy: 0.8943 - val_loss: 0.3616 - val_accuracy: 0.9028\n",
      "Epoch 17/200\n",
      "375/375 [==============================] - 0s 1ms/step - loss: 0.3838 - accuracy: 0.8958 - val_loss: 0.3577 - val_accuracy: 0.9036\n",
      "Epoch 18/200\n",
      "375/375 [==============================] - 0s 1ms/step - loss: 0.3795 - accuracy: 0.8961 - val_loss: 0.3542 - val_accuracy: 0.9040\n",
      "Epoch 19/200\n",
      "375/375 [==============================] - 1s 2ms/step - loss: 0.3756 - accuracy: 0.8970 - val_loss: 0.3509 - val_accuracy: 0.9052\n",
      "Epoch 20/200\n",
      "375/375 [==============================] - 0s 1ms/step - loss: 0.3720 - accuracy: 0.8974 - val_loss: 0.3480 - val_accuracy: 0.9060\n",
      "Epoch 21/200\n",
      "375/375 [==============================] - 0s 1ms/step - loss: 0.3686 - accuracy: 0.8985 - val_loss: 0.3452 - val_accuracy: 0.9062\n",
      "Epoch 22/200\n",
      "375/375 [==============================] - 0s 1ms/step - loss: 0.3656 - accuracy: 0.8989 - val_loss: 0.3427 - val_accuracy: 0.9067\n",
      "Epoch 23/200\n",
      "375/375 [==============================] - 0s 1ms/step - loss: 0.3627 - accuracy: 0.8999 - val_loss: 0.3404 - val_accuracy: 0.9076\n",
      "Epoch 24/200\n",
      "375/375 [==============================] - 0s 1ms/step - loss: 0.3599 - accuracy: 0.9006 - val_loss: 0.3381 - val_accuracy: 0.9076\n",
      "Epoch 25/200\n",
      "375/375 [==============================] - 0s 1ms/step - loss: 0.3574 - accuracy: 0.9014 - val_loss: 0.3361 - val_accuracy: 0.9086\n",
      "Epoch 26/200\n",
      "375/375 [==============================] - 0s 1ms/step - loss: 0.3550 - accuracy: 0.9018 - val_loss: 0.3340 - val_accuracy: 0.9093\n",
      "Epoch 27/200\n",
      "375/375 [==============================] - 0s 1ms/step - loss: 0.3527 - accuracy: 0.9024 - val_loss: 0.3323 - val_accuracy: 0.9093\n",
      "Epoch 28/200\n",
      "375/375 [==============================] - 0s 1ms/step - loss: 0.3506 - accuracy: 0.9030 - val_loss: 0.3306 - val_accuracy: 0.9102\n",
      "Epoch 29/200\n",
      "375/375 [==============================] - 0s 1ms/step - loss: 0.3486 - accuracy: 0.9032 - val_loss: 0.3289 - val_accuracy: 0.9105\n",
      "Epoch 30/200\n",
      "375/375 [==============================] - 0s 1ms/step - loss: 0.3467 - accuracy: 0.9037 - val_loss: 0.3274 - val_accuracy: 0.9114\n",
      "Epoch 31/200\n",
      "375/375 [==============================] - 0s 1ms/step - loss: 0.3449 - accuracy: 0.9045 - val_loss: 0.3258 - val_accuracy: 0.9116\n",
      "Epoch 32/200\n",
      "375/375 [==============================] - 0s 1ms/step - loss: 0.3431 - accuracy: 0.9047 - val_loss: 0.3244 - val_accuracy: 0.9122\n",
      "Epoch 33/200\n",
      "375/375 [==============================] - 1s 1ms/step - loss: 0.3414 - accuracy: 0.9052 - val_loss: 0.3232 - val_accuracy: 0.9124\n",
      "Epoch 34/200\n",
      "375/375 [==============================] - 0s 1ms/step - loss: 0.3399 - accuracy: 0.9058 - val_loss: 0.3218 - val_accuracy: 0.9125\n",
      "Epoch 35/200\n",
      "375/375 [==============================] - 0s 1ms/step - loss: 0.3384 - accuracy: 0.9057 - val_loss: 0.3205 - val_accuracy: 0.9128\n",
      "Epoch 36/200\n",
      "375/375 [==============================] - 1s 1ms/step - loss: 0.3369 - accuracy: 0.9065 - val_loss: 0.3194 - val_accuracy: 0.9130\n",
      "Epoch 37/200\n",
      "375/375 [==============================] - 0s 1ms/step - loss: 0.3355 - accuracy: 0.9062 - val_loss: 0.3184 - val_accuracy: 0.9130\n",
      "Epoch 38/200\n",
      "375/375 [==============================] - 1s 1ms/step - loss: 0.3342 - accuracy: 0.9068 - val_loss: 0.3173 - val_accuracy: 0.9133\n",
      "Epoch 39/200\n",
      "375/375 [==============================] - 1s 1ms/step - loss: 0.3329 - accuracy: 0.9072 - val_loss: 0.3162 - val_accuracy: 0.9136\n",
      "Epoch 40/200\n",
      "375/375 [==============================] - 0s 1ms/step - loss: 0.3317 - accuracy: 0.9074 - val_loss: 0.3153 - val_accuracy: 0.9135\n",
      "Epoch 41/200\n",
      "375/375 [==============================] - 0s 1ms/step - loss: 0.3305 - accuracy: 0.9075 - val_loss: 0.3142 - val_accuracy: 0.9143\n",
      "Epoch 42/200\n",
      "375/375 [==============================] - 0s 1ms/step - loss: 0.3293 - accuracy: 0.9080 - val_loss: 0.3133 - val_accuracy: 0.9146\n",
      "Epoch 43/200\n",
      "375/375 [==============================] - 0s 1ms/step - loss: 0.3282 - accuracy: 0.9083 - val_loss: 0.3124 - val_accuracy: 0.9146\n",
      "Epoch 44/200\n",
      "375/375 [==============================] - 0s 1ms/step - loss: 0.3271 - accuracy: 0.9085 - val_loss: 0.3116 - val_accuracy: 0.9146\n",
      "Epoch 45/200\n",
      "375/375 [==============================] - 0s 1ms/step - loss: 0.3261 - accuracy: 0.9089 - val_loss: 0.3108 - val_accuracy: 0.9149\n",
      "Epoch 46/200\n",
      "375/375 [==============================] - 0s 1ms/step - loss: 0.3251 - accuracy: 0.9090 - val_loss: 0.3101 - val_accuracy: 0.9153\n",
      "Epoch 47/200\n",
      "375/375 [==============================] - 0s 1ms/step - loss: 0.3241 - accuracy: 0.9095 - val_loss: 0.3093 - val_accuracy: 0.9153\n",
      "Epoch 48/200\n",
      "375/375 [==============================] - 0s 1ms/step - loss: 0.3232 - accuracy: 0.9097 - val_loss: 0.3086 - val_accuracy: 0.9157\n",
      "Epoch 49/200\n",
      "375/375 [==============================] - 1s 2ms/step - loss: 0.3223 - accuracy: 0.9099 - val_loss: 0.3078 - val_accuracy: 0.9157\n",
      "Epoch 50/200\n",
      "375/375 [==============================] - 0s 1ms/step - loss: 0.3213 - accuracy: 0.9100 - val_loss: 0.3072 - val_accuracy: 0.9159\n",
      "Epoch 51/200\n",
      "375/375 [==============================] - 0s 1ms/step - loss: 0.3205 - accuracy: 0.9106 - val_loss: 0.3065 - val_accuracy: 0.9154\n",
      "Epoch 52/200\n",
      "375/375 [==============================] - 0s 1ms/step - loss: 0.3197 - accuracy: 0.9108 - val_loss: 0.3059 - val_accuracy: 0.9158\n",
      "Epoch 53/200\n"
     ]
    },
    {
     "name": "stdout",
     "output_type": "stream",
     "text": [
      "375/375 [==============================] - 0s 1ms/step - loss: 0.3189 - accuracy: 0.9110 - val_loss: 0.3051 - val_accuracy: 0.9159\n",
      "Epoch 54/200\n",
      "375/375 [==============================] - 0s 1ms/step - loss: 0.3181 - accuracy: 0.9113 - val_loss: 0.3045 - val_accuracy: 0.9162\n",
      "Epoch 55/200\n",
      "375/375 [==============================] - 0s 1ms/step - loss: 0.3173 - accuracy: 0.9115 - val_loss: 0.3039 - val_accuracy: 0.9162\n",
      "Epoch 56/200\n",
      "375/375 [==============================] - 0s 1ms/step - loss: 0.3166 - accuracy: 0.9119 - val_loss: 0.3034 - val_accuracy: 0.9163\n",
      "Epoch 57/200\n",
      "375/375 [==============================] - 0s 1ms/step - loss: 0.3158 - accuracy: 0.9122 - val_loss: 0.3028 - val_accuracy: 0.9162\n",
      "Epoch 58/200\n",
      "375/375 [==============================] - 0s 1ms/step - loss: 0.3151 - accuracy: 0.9126 - val_loss: 0.3023 - val_accuracy: 0.9165\n",
      "Epoch 59/200\n",
      "375/375 [==============================] - 0s 1ms/step - loss: 0.3145 - accuracy: 0.9126 - val_loss: 0.3018 - val_accuracy: 0.9164\n",
      "Epoch 60/200\n",
      "375/375 [==============================] - 1s 1ms/step - loss: 0.3138 - accuracy: 0.9129 - val_loss: 0.3012 - val_accuracy: 0.9166\n",
      "Epoch 61/200\n",
      "375/375 [==============================] - 1s 1ms/step - loss: 0.3131 - accuracy: 0.9126 - val_loss: 0.3006 - val_accuracy: 0.9168\n",
      "Epoch 62/200\n",
      "375/375 [==============================] - 1s 1ms/step - loss: 0.3125 - accuracy: 0.9131 - val_loss: 0.3002 - val_accuracy: 0.9170\n",
      "Epoch 63/200\n",
      "375/375 [==============================] - 1s 1ms/step - loss: 0.3118 - accuracy: 0.9135 - val_loss: 0.2997 - val_accuracy: 0.9172\n",
      "Epoch 64/200\n",
      "375/375 [==============================] - 1s 2ms/step - loss: 0.3112 - accuracy: 0.9136 - val_loss: 0.2993 - val_accuracy: 0.9176\n",
      "Epoch 65/200\n",
      "375/375 [==============================] - 1s 2ms/step - loss: 0.3106 - accuracy: 0.9137 - val_loss: 0.2988 - val_accuracy: 0.9179\n",
      "Epoch 66/200\n",
      "375/375 [==============================] - 1s 2ms/step - loss: 0.3100 - accuracy: 0.9142 - val_loss: 0.2984 - val_accuracy: 0.9175\n",
      "Epoch 67/200\n",
      "375/375 [==============================] - 1s 1ms/step - loss: 0.3094 - accuracy: 0.9142 - val_loss: 0.2980 - val_accuracy: 0.9177\n",
      "Epoch 68/200\n",
      "375/375 [==============================] - 1s 1ms/step - loss: 0.3089 - accuracy: 0.9139 - val_loss: 0.2975 - val_accuracy: 0.9178\n",
      "Epoch 69/200\n",
      "375/375 [==============================] - 0s 1ms/step - loss: 0.3083 - accuracy: 0.9143 - val_loss: 0.2970 - val_accuracy: 0.9176\n",
      "Epoch 70/200\n",
      "375/375 [==============================] - 0s 1ms/step - loss: 0.3078 - accuracy: 0.9146 - val_loss: 0.2966 - val_accuracy: 0.9178\n",
      "Epoch 71/200\n",
      "375/375 [==============================] - 0s 1ms/step - loss: 0.3073 - accuracy: 0.9147 - val_loss: 0.2962 - val_accuracy: 0.9178\n",
      "Epoch 72/200\n",
      "375/375 [==============================] - 0s 1ms/step - loss: 0.3068 - accuracy: 0.9147 - val_loss: 0.2959 - val_accuracy: 0.9178\n",
      "Epoch 73/200\n",
      "375/375 [==============================] - 0s 1ms/step - loss: 0.3062 - accuracy: 0.9151 - val_loss: 0.2955 - val_accuracy: 0.9183\n",
      "Epoch 74/200\n",
      "375/375 [==============================] - 1s 1ms/step - loss: 0.3057 - accuracy: 0.9149 - val_loss: 0.2952 - val_accuracy: 0.9184\n",
      "Epoch 75/200\n",
      "375/375 [==============================] - 1s 1ms/step - loss: 0.3053 - accuracy: 0.9149 - val_loss: 0.2948 - val_accuracy: 0.9182\n",
      "Epoch 76/200\n",
      "375/375 [==============================] - 0s 1ms/step - loss: 0.3048 - accuracy: 0.9154 - val_loss: 0.2945 - val_accuracy: 0.9180\n",
      "Epoch 77/200\n",
      "375/375 [==============================] - 0s 1ms/step - loss: 0.3043 - accuracy: 0.9151 - val_loss: 0.2941 - val_accuracy: 0.9189\n",
      "Epoch 78/200\n",
      "375/375 [==============================] - 0s 1ms/step - loss: 0.3039 - accuracy: 0.9154 - val_loss: 0.2938 - val_accuracy: 0.9184\n",
      "Epoch 79/200\n",
      "375/375 [==============================] - 0s 1ms/step - loss: 0.3034 - accuracy: 0.9155 - val_loss: 0.2934 - val_accuracy: 0.9187\n",
      "Epoch 80/200\n",
      "375/375 [==============================] - 0s 1ms/step - loss: 0.3030 - accuracy: 0.9160 - val_loss: 0.2930 - val_accuracy: 0.9187\n",
      "Epoch 81/200\n",
      "375/375 [==============================] - 0s 1ms/step - loss: 0.3025 - accuracy: 0.9156 - val_loss: 0.2927 - val_accuracy: 0.9186\n",
      "Epoch 82/200\n",
      "375/375 [==============================] - 0s 1ms/step - loss: 0.3021 - accuracy: 0.9156 - val_loss: 0.2924 - val_accuracy: 0.9187\n",
      "Epoch 83/200\n",
      "375/375 [==============================] - 0s 1ms/step - loss: 0.3016 - accuracy: 0.9162 - val_loss: 0.2923 - val_accuracy: 0.9191\n",
      "Epoch 84/200\n",
      "375/375 [==============================] - 0s 1ms/step - loss: 0.3013 - accuracy: 0.9161 - val_loss: 0.2918 - val_accuracy: 0.9193\n",
      "Epoch 85/200\n",
      "375/375 [==============================] - 0s 993us/step - loss: 0.3009 - accuracy: 0.9162 - val_loss: 0.2915 - val_accuracy: 0.9191\n",
      "Epoch 86/200\n",
      "375/375 [==============================] - 0s 1ms/step - loss: 0.3005 - accuracy: 0.9162 - val_loss: 0.2912 - val_accuracy: 0.9193\n",
      "Epoch 87/200\n",
      "375/375 [==============================] - 0s 1ms/step - loss: 0.3001 - accuracy: 0.9166 - val_loss: 0.2909 - val_accuracy: 0.9193\n",
      "Epoch 88/200\n",
      "375/375 [==============================] - 1s 1ms/step - loss: 0.2996 - accuracy: 0.9165 - val_loss: 0.2907 - val_accuracy: 0.9194\n",
      "Epoch 89/200\n",
      "375/375 [==============================] - 0s 1ms/step - loss: 0.2993 - accuracy: 0.9167 - val_loss: 0.2905 - val_accuracy: 0.9195\n",
      "Epoch 90/200\n",
      "375/375 [==============================] - 0s 1ms/step - loss: 0.2989 - accuracy: 0.9169 - val_loss: 0.2901 - val_accuracy: 0.9198\n",
      "Epoch 91/200\n",
      "375/375 [==============================] - 0s 1ms/step - loss: 0.2986 - accuracy: 0.9168 - val_loss: 0.2899 - val_accuracy: 0.9197\n",
      "Epoch 92/200\n",
      "375/375 [==============================] - 0s 1ms/step - loss: 0.2982 - accuracy: 0.9171 - val_loss: 0.2896 - val_accuracy: 0.9196\n",
      "Epoch 93/200\n",
      "375/375 [==============================] - ETA: 0s - loss: 0.2974 - accuracy: 0.91 - 0s 1ms/step - loss: 0.2979 - accuracy: 0.9169 - val_loss: 0.2894 - val_accuracy: 0.9198\n",
      "Epoch 94/200\n",
      "375/375 [==============================] - 0s 1ms/step - loss: 0.2975 - accuracy: 0.9171 - val_loss: 0.2891 - val_accuracy: 0.9197\n",
      "Epoch 95/200\n",
      "375/375 [==============================] - 0s 1ms/step - loss: 0.2972 - accuracy: 0.9173 - val_loss: 0.2889 - val_accuracy: 0.9199\n",
      "Epoch 96/200\n",
      "375/375 [==============================] - 0s 1ms/step - loss: 0.2968 - accuracy: 0.9172 - val_loss: 0.2886 - val_accuracy: 0.9200\n",
      "Epoch 97/200\n",
      "375/375 [==============================] - 0s 1ms/step - loss: 0.2965 - accuracy: 0.9174 - val_loss: 0.2884 - val_accuracy: 0.9202\n",
      "Epoch 98/200\n",
      "375/375 [==============================] - 0s 1ms/step - loss: 0.2961 - accuracy: 0.9178 - val_loss: 0.2882 - val_accuracy: 0.9202\n",
      "Epoch 99/200\n",
      "375/375 [==============================] - 0s 1ms/step - loss: 0.2958 - accuracy: 0.9173 - val_loss: 0.2879 - val_accuracy: 0.9202\n",
      "Epoch 100/200\n",
      "375/375 [==============================] - 0s 1ms/step - loss: 0.2955 - accuracy: 0.9178 - val_loss: 0.2878 - val_accuracy: 0.9204\n",
      "Epoch 101/200\n",
      "375/375 [==============================] - 0s 1ms/step - loss: 0.2951 - accuracy: 0.9178 - val_loss: 0.2875 - val_accuracy: 0.9206\n",
      "Epoch 102/200\n",
      "375/375 [==============================] - 0s 1ms/step - loss: 0.2949 - accuracy: 0.9176 - val_loss: 0.2872 - val_accuracy: 0.9206\n",
      "Epoch 103/200\n",
      "375/375 [==============================] - 0s 1ms/step - loss: 0.2946 - accuracy: 0.9179 - val_loss: 0.2870 - val_accuracy: 0.9204\n",
      "Epoch 104/200\n",
      "375/375 [==============================] - 0s 1ms/step - loss: 0.2942 - accuracy: 0.9178 - val_loss: 0.2868 - val_accuracy: 0.9203\n",
      "Epoch 105/200\n",
      "375/375 [==============================] - 0s 1ms/step - loss: 0.2940 - accuracy: 0.9180 - val_loss: 0.2866 - val_accuracy: 0.9206\n",
      "Epoch 106/200\n",
      "375/375 [==============================] - 0s 1ms/step - loss: 0.2936 - accuracy: 0.9183 - val_loss: 0.2865 - val_accuracy: 0.9210\n",
      "Epoch 107/200\n",
      "375/375 [==============================] - 0s 1ms/step - loss: 0.2934 - accuracy: 0.9182 - val_loss: 0.2862 - val_accuracy: 0.9209\n",
      "Epoch 108/200\n",
      "375/375 [==============================] - 0s 1ms/step - loss: 0.2931 - accuracy: 0.9180 - val_loss: 0.2860 - val_accuracy: 0.9210\n",
      "Epoch 109/200\n"
     ]
    },
    {
     "name": "stdout",
     "output_type": "stream",
     "text": [
      "375/375 [==============================] - 0s 1ms/step - loss: 0.2928 - accuracy: 0.9184 - val_loss: 0.2858 - val_accuracy: 0.9209\n",
      "Epoch 110/200\n",
      "375/375 [==============================] - 0s 1ms/step - loss: 0.2925 - accuracy: 0.9183 - val_loss: 0.2856 - val_accuracy: 0.9211\n",
      "Epoch 111/200\n",
      "375/375 [==============================] - 0s 1ms/step - loss: 0.2922 - accuracy: 0.9184 - val_loss: 0.2854 - val_accuracy: 0.9213\n",
      "Epoch 112/200\n",
      "375/375 [==============================] - 0s 1ms/step - loss: 0.2920 - accuracy: 0.9184 - val_loss: 0.2852 - val_accuracy: 0.9210\n",
      "Epoch 113/200\n",
      "375/375 [==============================] - 0s 1ms/step - loss: 0.2917 - accuracy: 0.9189 - val_loss: 0.2851 - val_accuracy: 0.9209\n",
      "Epoch 114/200\n",
      "375/375 [==============================] - 0s 1ms/step - loss: 0.2914 - accuracy: 0.9187 - val_loss: 0.2849 - val_accuracy: 0.9215\n",
      "Epoch 115/200\n",
      "375/375 [==============================] - 0s 1ms/step - loss: 0.2911 - accuracy: 0.9190 - val_loss: 0.2847 - val_accuracy: 0.9215\n",
      "Epoch 116/200\n",
      "375/375 [==============================] - 0s 1ms/step - loss: 0.2909 - accuracy: 0.9188 - val_loss: 0.2845 - val_accuracy: 0.9212\n",
      "Epoch 117/200\n",
      "375/375 [==============================] - 0s 1ms/step - loss: 0.2906 - accuracy: 0.9191 - val_loss: 0.2844 - val_accuracy: 0.9211\n",
      "Epoch 118/200\n",
      "375/375 [==============================] - 0s 1ms/step - loss: 0.2904 - accuracy: 0.9191 - val_loss: 0.2842 - val_accuracy: 0.9214\n",
      "Epoch 119/200\n",
      "375/375 [==============================] - 0s 1ms/step - loss: 0.2901 - accuracy: 0.9190 - val_loss: 0.2840 - val_accuracy: 0.9214\n",
      "Epoch 120/200\n",
      "375/375 [==============================] - 0s 1ms/step - loss: 0.2899 - accuracy: 0.9194 - val_loss: 0.2838 - val_accuracy: 0.9213\n",
      "Epoch 121/200\n",
      "375/375 [==============================] - 0s 1ms/step - loss: 0.2896 - accuracy: 0.9192 - val_loss: 0.2836 - val_accuracy: 0.9213\n",
      "Epoch 122/200\n",
      "375/375 [==============================] - 0s 1ms/step - loss: 0.2894 - accuracy: 0.9195 - val_loss: 0.2835 - val_accuracy: 0.9216\n",
      "Epoch 123/200\n",
      "375/375 [==============================] - 0s 1ms/step - loss: 0.2892 - accuracy: 0.9193 - val_loss: 0.2833 - val_accuracy: 0.9218\n",
      "Epoch 124/200\n",
      "375/375 [==============================] - 0s 1ms/step - loss: 0.2889 - accuracy: 0.9197 - val_loss: 0.2831 - val_accuracy: 0.9218\n",
      "Epoch 125/200\n",
      "375/375 [==============================] - 0s 1ms/step - loss: 0.2887 - accuracy: 0.9196 - val_loss: 0.2830 - val_accuracy: 0.9218\n",
      "Epoch 126/200\n",
      "375/375 [==============================] - 0s 1ms/step - loss: 0.2885 - accuracy: 0.9194 - val_loss: 0.2828 - val_accuracy: 0.9218\n",
      "Epoch 127/200\n",
      "375/375 [==============================] - 0s 1ms/step - loss: 0.2883 - accuracy: 0.9198 - val_loss: 0.2827 - val_accuracy: 0.9218\n",
      "Epoch 128/200\n",
      "375/375 [==============================] - 0s 1ms/step - loss: 0.2880 - accuracy: 0.9198 - val_loss: 0.2826 - val_accuracy: 0.9218\n",
      "Epoch 129/200\n",
      "375/375 [==============================] - 0s 1ms/step - loss: 0.2878 - accuracy: 0.9200 - val_loss: 0.2823 - val_accuracy: 0.9216\n",
      "Epoch 130/200\n",
      "375/375 [==============================] - 0s 1ms/step - loss: 0.2876 - accuracy: 0.9200 - val_loss: 0.2822 - val_accuracy: 0.9219\n",
      "Epoch 131/200\n",
      "375/375 [==============================] - 0s 1ms/step - loss: 0.2874 - accuracy: 0.9200 - val_loss: 0.2821 - val_accuracy: 0.9219\n",
      "Epoch 132/200\n",
      "375/375 [==============================] - 0s 1ms/step - loss: 0.2871 - accuracy: 0.9200 - val_loss: 0.2820 - val_accuracy: 0.9218\n",
      "Epoch 133/200\n",
      "375/375 [==============================] - 0s 1ms/step - loss: 0.2869 - accuracy: 0.9203 - val_loss: 0.2818 - val_accuracy: 0.9220\n",
      "Epoch 134/200\n",
      "375/375 [==============================] - 0s 1ms/step - loss: 0.2867 - accuracy: 0.9198 - val_loss: 0.2817 - val_accuracy: 0.9221\n",
      "Epoch 135/200\n",
      "375/375 [==============================] - 1s 1ms/step - loss: 0.2865 - accuracy: 0.9203 - val_loss: 0.2816 - val_accuracy: 0.9218\n",
      "Epoch 136/200\n",
      "375/375 [==============================] - 0s 1ms/step - loss: 0.2863 - accuracy: 0.9202 - val_loss: 0.2814 - val_accuracy: 0.9219\n",
      "Epoch 137/200\n",
      "375/375 [==============================] - 0s 1ms/step - loss: 0.2861 - accuracy: 0.9205 - val_loss: 0.2813 - val_accuracy: 0.9218\n",
      "Epoch 138/200\n",
      "375/375 [==============================] - 0s 1ms/step - loss: 0.2859 - accuracy: 0.9204 - val_loss: 0.2812 - val_accuracy: 0.9220\n",
      "Epoch 139/200\n",
      "375/375 [==============================] - 0s 1ms/step - loss: 0.2857 - accuracy: 0.9204 - val_loss: 0.2811 - val_accuracy: 0.9220\n",
      "Epoch 140/200\n",
      "375/375 [==============================] - 0s 1ms/step - loss: 0.2855 - accuracy: 0.9204 - val_loss: 0.2809 - val_accuracy: 0.9222\n",
      "Epoch 141/200\n",
      "375/375 [==============================] - 1s 1ms/step - loss: 0.2853 - accuracy: 0.9205 - val_loss: 0.2808 - val_accuracy: 0.9222\n",
      "Epoch 142/200\n",
      "375/375 [==============================] - 0s 1ms/step - loss: 0.2851 - accuracy: 0.9205 - val_loss: 0.2806 - val_accuracy: 0.9224\n",
      "Epoch 143/200\n",
      "375/375 [==============================] - 0s 1ms/step - loss: 0.2849 - accuracy: 0.9208 - val_loss: 0.2805 - val_accuracy: 0.9224\n",
      "Epoch 144/200\n",
      "375/375 [==============================] - 0s 1ms/step - loss: 0.2847 - accuracy: 0.9208 - val_loss: 0.2804 - val_accuracy: 0.9220\n",
      "Epoch 145/200\n",
      "375/375 [==============================] - 0s 1ms/step - loss: 0.2846 - accuracy: 0.9207 - val_loss: 0.2802 - val_accuracy: 0.9224\n",
      "Epoch 146/200\n",
      "375/375 [==============================] - 0s 1ms/step - loss: 0.2843 - accuracy: 0.9208 - val_loss: 0.2801 - val_accuracy: 0.9227\n",
      "Epoch 147/200\n",
      "375/375 [==============================] - 0s 1ms/step - loss: 0.2841 - accuracy: 0.9210 - val_loss: 0.2801 - val_accuracy: 0.9226\n",
      "Epoch 148/200\n",
      "375/375 [==============================] - 0s 1ms/step - loss: 0.2839 - accuracy: 0.9209 - val_loss: 0.2800 - val_accuracy: 0.9222\n",
      "Epoch 149/200\n",
      "375/375 [==============================] - 0s 1ms/step - loss: 0.2838 - accuracy: 0.9211 - val_loss: 0.2799 - val_accuracy: 0.9224\n",
      "Epoch 150/200\n",
      "375/375 [==============================] - 0s 1ms/step - loss: 0.2836 - accuracy: 0.9210 - val_loss: 0.2798 - val_accuracy: 0.9224\n",
      "Epoch 151/200\n",
      "375/375 [==============================] - 0s 1ms/step - loss: 0.2834 - accuracy: 0.9212 - val_loss: 0.2796 - val_accuracy: 0.9222\n",
      "Epoch 152/200\n",
      "375/375 [==============================] - 0s 1ms/step - loss: 0.2832 - accuracy: 0.9212 - val_loss: 0.2795 - val_accuracy: 0.9222\n",
      "Epoch 153/200\n",
      "375/375 [==============================] - 0s 1ms/step - loss: 0.2831 - accuracy: 0.9212 - val_loss: 0.2794 - val_accuracy: 0.9223\n",
      "Epoch 154/200\n",
      "375/375 [==============================] - 0s 1ms/step - loss: 0.2829 - accuracy: 0.9212 - val_loss: 0.2793 - val_accuracy: 0.9223\n",
      "Epoch 155/200\n",
      "375/375 [==============================] - 0s 1ms/step - loss: 0.2827 - accuracy: 0.9212 - val_loss: 0.2792 - val_accuracy: 0.9221\n",
      "Epoch 156/200\n",
      "375/375 [==============================] - 0s 1ms/step - loss: 0.2826 - accuracy: 0.9213 - val_loss: 0.2790 - val_accuracy: 0.9222\n",
      "Epoch 157/200\n",
      "375/375 [==============================] - 0s 1ms/step - loss: 0.2823 - accuracy: 0.9216 - val_loss: 0.2792 - val_accuracy: 0.9231\n",
      "Epoch 158/200\n",
      "375/375 [==============================] - 0s 1ms/step - loss: 0.2822 - accuracy: 0.9213 - val_loss: 0.2789 - val_accuracy: 0.9226\n",
      "Epoch 159/200\n",
      "375/375 [==============================] - 0s 1ms/step - loss: 0.2821 - accuracy: 0.9213 - val_loss: 0.2787 - val_accuracy: 0.9225\n",
      "Epoch 160/200\n",
      "375/375 [==============================] - 0s 1ms/step - loss: 0.2819 - accuracy: 0.9217 - val_loss: 0.2787 - val_accuracy: 0.9225\n",
      "Epoch 161/200\n",
      "375/375 [==============================] - 0s 1ms/step - loss: 0.2817 - accuracy: 0.9215 - val_loss: 0.2786 - val_accuracy: 0.9223\n",
      "Epoch 162/200\n",
      "375/375 [==============================] - 0s 1ms/step - loss: 0.2816 - accuracy: 0.9218 - val_loss: 0.2785 - val_accuracy: 0.9222\n",
      "Epoch 163/200\n",
      "375/375 [==============================] - 0s 1ms/step - loss: 0.2814 - accuracy: 0.9216 - val_loss: 0.2783 - val_accuracy: 0.9222\n",
      "Epoch 164/200\n",
      "375/375 [==============================] - 0s 1ms/step - loss: 0.2812 - accuracy: 0.9218 - val_loss: 0.2782 - val_accuracy: 0.9225\n",
      "Epoch 165/200\n"
     ]
    },
    {
     "name": "stdout",
     "output_type": "stream",
     "text": [
      "375/375 [==============================] - 0s 1ms/step - loss: 0.2811 - accuracy: 0.9217 - val_loss: 0.2781 - val_accuracy: 0.9222\n",
      "Epoch 166/200\n",
      "375/375 [==============================] - 0s 1ms/step - loss: 0.2809 - accuracy: 0.9217 - val_loss: 0.2780 - val_accuracy: 0.9223\n",
      "Epoch 167/200\n",
      "375/375 [==============================] - 1s 2ms/step - loss: 0.2807 - accuracy: 0.9219 - val_loss: 0.2779 - val_accuracy: 0.9222\n",
      "Epoch 168/200\n",
      "375/375 [==============================] - 0s 1ms/step - loss: 0.2806 - accuracy: 0.9221 - val_loss: 0.2778 - val_accuracy: 0.9225\n",
      "Epoch 169/200\n",
      "375/375 [==============================] - 0s 1ms/step - loss: 0.2804 - accuracy: 0.9221 - val_loss: 0.2778 - val_accuracy: 0.9222\n",
      "Epoch 170/200\n",
      "375/375 [==============================] - 0s 1ms/step - loss: 0.2803 - accuracy: 0.9220 - val_loss: 0.2776 - val_accuracy: 0.9225\n",
      "Epoch 171/200\n",
      "375/375 [==============================] - 0s 1ms/step - loss: 0.2801 - accuracy: 0.9221 - val_loss: 0.2775 - val_accuracy: 0.9230\n",
      "Epoch 172/200\n",
      "375/375 [==============================] - 0s 1ms/step - loss: 0.2800 - accuracy: 0.9220 - val_loss: 0.2774 - val_accuracy: 0.9228\n",
      "Epoch 173/200\n",
      "375/375 [==============================] - 0s 1ms/step - loss: 0.2798 - accuracy: 0.9221 - val_loss: 0.2773 - val_accuracy: 0.9229\n",
      "Epoch 174/200\n",
      "375/375 [==============================] - 0s 1ms/step - loss: 0.2797 - accuracy: 0.9222 - val_loss: 0.2772 - val_accuracy: 0.9228\n",
      "Epoch 175/200\n",
      "375/375 [==============================] - 0s 1ms/step - loss: 0.2796 - accuracy: 0.9221 - val_loss: 0.2772 - val_accuracy: 0.9225\n",
      "Epoch 176/200\n",
      "375/375 [==============================] - 0s 1ms/step - loss: 0.2794 - accuracy: 0.9223 - val_loss: 0.2771 - val_accuracy: 0.9227\n",
      "Epoch 177/200\n",
      "375/375 [==============================] - 0s 1ms/step - loss: 0.2793 - accuracy: 0.9224 - val_loss: 0.2770 - val_accuracy: 0.9233\n",
      "Epoch 178/200\n",
      "375/375 [==============================] - 0s 1ms/step - loss: 0.2791 - accuracy: 0.9226 - val_loss: 0.2770 - val_accuracy: 0.9226\n",
      "Epoch 179/200\n",
      "375/375 [==============================] - 0s 1ms/step - loss: 0.2790 - accuracy: 0.9223 - val_loss: 0.2768 - val_accuracy: 0.9234\n",
      "Epoch 180/200\n",
      "375/375 [==============================] - 0s 1ms/step - loss: 0.2788 - accuracy: 0.9225 - val_loss: 0.2768 - val_accuracy: 0.9234\n",
      "Epoch 181/200\n",
      "375/375 [==============================] - 0s 1ms/step - loss: 0.2787 - accuracy: 0.9223 - val_loss: 0.2766 - val_accuracy: 0.9229\n",
      "Epoch 182/200\n",
      "375/375 [==============================] - 0s 1ms/step - loss: 0.2786 - accuracy: 0.9224 - val_loss: 0.2765 - val_accuracy: 0.9229\n",
      "Epoch 183/200\n",
      "375/375 [==============================] - 0s 1ms/step - loss: 0.2784 - accuracy: 0.9224 - val_loss: 0.2765 - val_accuracy: 0.9228\n",
      "Epoch 184/200\n",
      "375/375 [==============================] - 0s 1ms/step - loss: 0.2783 - accuracy: 0.9226 - val_loss: 0.2765 - val_accuracy: 0.9233\n",
      "Epoch 185/200\n",
      "375/375 [==============================] - 0s 1ms/step - loss: 0.2782 - accuracy: 0.9227 - val_loss: 0.2764 - val_accuracy: 0.9228\n",
      "Epoch 186/200\n",
      "375/375 [==============================] - 0s 1ms/step - loss: 0.2780 - accuracy: 0.9227 - val_loss: 0.2763 - val_accuracy: 0.9234\n",
      "Epoch 187/200\n",
      "375/375 [==============================] - 0s 1ms/step - loss: 0.2779 - accuracy: 0.9225 - val_loss: 0.2763 - val_accuracy: 0.9232\n",
      "Epoch 188/200\n",
      "375/375 [==============================] - 0s 1ms/step - loss: 0.2778 - accuracy: 0.9226 - val_loss: 0.2761 - val_accuracy: 0.9229\n",
      "Epoch 189/200\n",
      "375/375 [==============================] - 0s 1ms/step - loss: 0.2776 - accuracy: 0.9228 - val_loss: 0.2760 - val_accuracy: 0.9235\n",
      "Epoch 190/200\n",
      "375/375 [==============================] - 0s 1ms/step - loss: 0.2775 - accuracy: 0.9227 - val_loss: 0.2760 - val_accuracy: 0.9233\n",
      "Epoch 191/200\n",
      "375/375 [==============================] - 0s 1ms/step - loss: 0.2774 - accuracy: 0.9229 - val_loss: 0.2759 - val_accuracy: 0.9232\n",
      "Epoch 192/200\n",
      "375/375 [==============================] - 0s 1ms/step - loss: 0.2772 - accuracy: 0.9227 - val_loss: 0.2759 - val_accuracy: 0.9238\n",
      "Epoch 193/200\n",
      "375/375 [==============================] - 0s 1ms/step - loss: 0.2771 - accuracy: 0.9229 - val_loss: 0.2757 - val_accuracy: 0.9237\n",
      "Epoch 194/200\n",
      "375/375 [==============================] - 0s 1ms/step - loss: 0.2770 - accuracy: 0.9230 - val_loss: 0.2757 - val_accuracy: 0.9237\n",
      "Epoch 195/200\n",
      "375/375 [==============================] - 0s 1ms/step - loss: 0.2769 - accuracy: 0.9229 - val_loss: 0.2756 - val_accuracy: 0.9233\n",
      "Epoch 196/200\n",
      "375/375 [==============================] - 0s 1ms/step - loss: 0.2767 - accuracy: 0.9230 - val_loss: 0.2755 - val_accuracy: 0.9232\n",
      "Epoch 197/200\n",
      "375/375 [==============================] - 0s 1ms/step - loss: 0.2766 - accuracy: 0.9232 - val_loss: 0.2756 - val_accuracy: 0.9237\n",
      "Epoch 198/200\n",
      "375/375 [==============================] - 0s 1ms/step - loss: 0.2765 - accuracy: 0.9229 - val_loss: 0.2754 - val_accuracy: 0.9236\n",
      "Epoch 199/200\n",
      "375/375 [==============================] - 0s 1ms/step - loss: 0.2763 - accuracy: 0.9233 - val_loss: 0.2753 - val_accuracy: 0.9237\n",
      "Epoch 200/200\n",
      "375/375 [==============================] - 0s 1ms/step - loss: 0.2763 - accuracy: 0.9230 - val_loss: 0.2752 - val_accuracy: 0.9234\n"
     ]
    },
    {
     "data": {
      "text/plain": [
       "<tensorflow.python.keras.callbacks.History at 0x19bd8838af0>"
      ]
     },
     "execution_count": 14,
     "metadata": {},
     "output_type": "execute_result"
    }
   ],
   "source": [
    "# Training the model \n",
    "model.fit(X_train, Y_train, \n",
    "             batch_size=BATCH_SIZE, epochs=EPOCHS,\n",
    "             verbose=VERBOSE, validation_split=VALIDATION_SPLIT,\n",
    "              callbacks=[tensorboard_callback])"
   ]
  },
  {
   "cell_type": "code",
   "execution_count": 15,
   "id": "aabbf9ba",
   "metadata": {},
   "outputs": [
    {
     "name": "stdout",
     "output_type": "stream",
     "text": [
      "313/313 [==============================] - 0s 567us/step - loss: 0.2777 - accuracy: 0.9218\n",
      "Test accuracy: 0.9218000173568726\n"
     ]
    }
   ],
   "source": [
    "#evaluate the model \n",
    "test_loss, test_acc = model.evaluate(X_test,Y_test)\n",
    "print('Test accuracy:', test_acc)"
   ]
  },
  {
   "cell_type": "code",
   "execution_count": 16,
   "id": "f3272ba4",
   "metadata": {},
   "outputs": [
    {
     "data": {
      "text/plain": [
       "Reusing TensorBoard on port 6006 (pid 16216), started 0:18:57 ago. (Use '!kill 16216' to kill it.)"
      ]
     },
     "metadata": {},
     "output_type": "display_data"
    },
    {
     "data": {
      "text/html": [
       "\n",
       "      <iframe id=\"tensorboard-frame-f03079407afbc849\" width=\"100%\" height=\"800\" frameborder=\"0\">\n",
       "      </iframe>\n",
       "      <script>\n",
       "        (function() {\n",
       "          const frame = document.getElementById(\"tensorboard-frame-f03079407afbc849\");\n",
       "          const url = new URL(\"/\", window.location);\n",
       "          const port = 6006;\n",
       "          if (port) {\n",
       "            url.port = port;\n",
       "          }\n",
       "          frame.src = url;\n",
       "        })();\n",
       "      </script>\n",
       "    "
      ],
      "text/plain": [
       "<IPython.core.display.HTML object>"
      ]
     },
     "metadata": {},
     "output_type": "display_data"
    }
   ],
   "source": [
    "%tensorboard --logdir logs/fit"
   ]
  },
  {
   "cell_type": "code",
   "execution_count": null,
   "id": "d363ee0a",
   "metadata": {},
   "outputs": [],
   "source": []
  }
 ],
 "metadata": {
  "kernelspec": {
   "display_name": "Python 3 (ipykernel)",
   "language": "python",
   "name": "python3"
  },
  "language_info": {
   "codemirror_mode": {
    "name": "ipython",
    "version": 3
   },
   "file_extension": ".py",
   "mimetype": "text/x-python",
   "name": "python",
   "nbconvert_exporter": "python",
   "pygments_lexer": "ipython3",
   "version": "3.8.12"
  }
 },
 "nbformat": 4,
 "nbformat_minor": 5
}
